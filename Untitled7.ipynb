{
 "cells": [
  {
   "cell_type": "code",
   "execution_count": 1,
   "id": "fb33aa88-a32a-44d1-9fc7-93d386639e20",
   "metadata": {},
   "outputs": [
    {
     "name": "stderr",
     "output_type": "stream",
     "text": [
      "fatal: destination path 'mlbookcamp-code' already exists and is not an empty directory.\n"
     ]
    }
   ],
   "source": [
    "!git clone https://github.com/alexeygrigorev/mlbookcamp-code"
   ]
  },
  {
   "cell_type": "code",
   "execution_count": 2,
   "id": "c6be07b8-57e2-4483-bfb9-9f3e815b6996",
   "metadata": {},
   "outputs": [],
   "source": [
    "import pandas as pd\n",
    "import numpy as np\n",
    "\n",
    "import seaborn as sns\n",
    "sns.set()\n",
    "from matplotlib import pyplot as plt\n"
   ]
  },
  {
   "cell_type": "code",
   "execution_count": 3,
   "id": "b0204f8c-a2dc-489a-aee3-e1e7809e7ce3",
   "metadata": {},
   "outputs": [
    {
     "data": {
      "text/plain": [
       "11914"
      ]
     },
     "execution_count": 3,
     "metadata": {},
     "output_type": "execute_result"
    }
   ],
   "source": [
    "df_1 = pd.read_csv('mlbookcamp-code/chapter-02-car-price/data.csv')\n",
    "df=df_1\n",
    "len(df)"
   ]
  },
  {
   "cell_type": "code",
   "execution_count": 4,
   "id": "615b45e2-4dc6-45bb-9ea9-2cb1ed68f2a8",
   "metadata": {},
   "outputs": [
    {
     "data": {
      "text/html": [
       "<div>\n",
       "<style scoped>\n",
       "    .dataframe tbody tr th:only-of-type {\n",
       "        vertical-align: middle;\n",
       "    }\n",
       "\n",
       "    .dataframe tbody tr th {\n",
       "        vertical-align: top;\n",
       "    }\n",
       "\n",
       "    .dataframe thead th {\n",
       "        text-align: right;\n",
       "    }\n",
       "</style>\n",
       "<table border=\"1\" class=\"dataframe\">\n",
       "  <thead>\n",
       "    <tr style=\"text-align: right;\">\n",
       "      <th></th>\n",
       "      <th>Make</th>\n",
       "      <th>Model</th>\n",
       "      <th>Year</th>\n",
       "      <th>Engine Fuel Type</th>\n",
       "      <th>Engine HP</th>\n",
       "      <th>Engine Cylinders</th>\n",
       "      <th>Transmission Type</th>\n",
       "      <th>Driven_Wheels</th>\n",
       "      <th>Number of Doors</th>\n",
       "      <th>Market Category</th>\n",
       "      <th>Vehicle Size</th>\n",
       "      <th>Vehicle Style</th>\n",
       "      <th>highway MPG</th>\n",
       "      <th>city mpg</th>\n",
       "      <th>Popularity</th>\n",
       "      <th>MSRP</th>\n",
       "    </tr>\n",
       "  </thead>\n",
       "  <tbody>\n",
       "    <tr>\n",
       "      <th>0</th>\n",
       "      <td>BMW</td>\n",
       "      <td>1 Series M</td>\n",
       "      <td>2011</td>\n",
       "      <td>premium unleaded (required)</td>\n",
       "      <td>335.0</td>\n",
       "      <td>6.0</td>\n",
       "      <td>MANUAL</td>\n",
       "      <td>rear wheel drive</td>\n",
       "      <td>2.0</td>\n",
       "      <td>Factory Tuner,Luxury,High-Performance</td>\n",
       "      <td>Compact</td>\n",
       "      <td>Coupe</td>\n",
       "      <td>26</td>\n",
       "      <td>19</td>\n",
       "      <td>3916</td>\n",
       "      <td>46135</td>\n",
       "    </tr>\n",
       "    <tr>\n",
       "      <th>1</th>\n",
       "      <td>BMW</td>\n",
       "      <td>1 Series</td>\n",
       "      <td>2011</td>\n",
       "      <td>premium unleaded (required)</td>\n",
       "      <td>300.0</td>\n",
       "      <td>6.0</td>\n",
       "      <td>MANUAL</td>\n",
       "      <td>rear wheel drive</td>\n",
       "      <td>2.0</td>\n",
       "      <td>Luxury,Performance</td>\n",
       "      <td>Compact</td>\n",
       "      <td>Convertible</td>\n",
       "      <td>28</td>\n",
       "      <td>19</td>\n",
       "      <td>3916</td>\n",
       "      <td>40650</td>\n",
       "    </tr>\n",
       "    <tr>\n",
       "      <th>2</th>\n",
       "      <td>BMW</td>\n",
       "      <td>1 Series</td>\n",
       "      <td>2011</td>\n",
       "      <td>premium unleaded (required)</td>\n",
       "      <td>300.0</td>\n",
       "      <td>6.0</td>\n",
       "      <td>MANUAL</td>\n",
       "      <td>rear wheel drive</td>\n",
       "      <td>2.0</td>\n",
       "      <td>Luxury,High-Performance</td>\n",
       "      <td>Compact</td>\n",
       "      <td>Coupe</td>\n",
       "      <td>28</td>\n",
       "      <td>20</td>\n",
       "      <td>3916</td>\n",
       "      <td>36350</td>\n",
       "    </tr>\n",
       "    <tr>\n",
       "      <th>3</th>\n",
       "      <td>BMW</td>\n",
       "      <td>1 Series</td>\n",
       "      <td>2011</td>\n",
       "      <td>premium unleaded (required)</td>\n",
       "      <td>230.0</td>\n",
       "      <td>6.0</td>\n",
       "      <td>MANUAL</td>\n",
       "      <td>rear wheel drive</td>\n",
       "      <td>2.0</td>\n",
       "      <td>Luxury,Performance</td>\n",
       "      <td>Compact</td>\n",
       "      <td>Coupe</td>\n",
       "      <td>28</td>\n",
       "      <td>18</td>\n",
       "      <td>3916</td>\n",
       "      <td>29450</td>\n",
       "    </tr>\n",
       "    <tr>\n",
       "      <th>4</th>\n",
       "      <td>BMW</td>\n",
       "      <td>1 Series</td>\n",
       "      <td>2011</td>\n",
       "      <td>premium unleaded (required)</td>\n",
       "      <td>230.0</td>\n",
       "      <td>6.0</td>\n",
       "      <td>MANUAL</td>\n",
       "      <td>rear wheel drive</td>\n",
       "      <td>2.0</td>\n",
       "      <td>Luxury</td>\n",
       "      <td>Compact</td>\n",
       "      <td>Convertible</td>\n",
       "      <td>28</td>\n",
       "      <td>18</td>\n",
       "      <td>3916</td>\n",
       "      <td>34500</td>\n",
       "    </tr>\n",
       "  </tbody>\n",
       "</table>\n",
       "</div>"
      ],
      "text/plain": [
       "  Make       Model  Year             Engine Fuel Type  Engine HP  \\\n",
       "0  BMW  1 Series M  2011  premium unleaded (required)      335.0   \n",
       "1  BMW    1 Series  2011  premium unleaded (required)      300.0   \n",
       "2  BMW    1 Series  2011  premium unleaded (required)      300.0   \n",
       "3  BMW    1 Series  2011  premium unleaded (required)      230.0   \n",
       "4  BMW    1 Series  2011  premium unleaded (required)      230.0   \n",
       "\n",
       "   Engine Cylinders Transmission Type     Driven_Wheels  Number of Doors  \\\n",
       "0               6.0            MANUAL  rear wheel drive              2.0   \n",
       "1               6.0            MANUAL  rear wheel drive              2.0   \n",
       "2               6.0            MANUAL  rear wheel drive              2.0   \n",
       "3               6.0            MANUAL  rear wheel drive              2.0   \n",
       "4               6.0            MANUAL  rear wheel drive              2.0   \n",
       "\n",
       "                         Market Category Vehicle Size Vehicle Style  \\\n",
       "0  Factory Tuner,Luxury,High-Performance      Compact         Coupe   \n",
       "1                     Luxury,Performance      Compact   Convertible   \n",
       "2                Luxury,High-Performance      Compact         Coupe   \n",
       "3                     Luxury,Performance      Compact         Coupe   \n",
       "4                                 Luxury      Compact   Convertible   \n",
       "\n",
       "   highway MPG  city mpg  Popularity   MSRP  \n",
       "0           26        19        3916  46135  \n",
       "1           28        19        3916  40650  \n",
       "2           28        20        3916  36350  \n",
       "3           28        18        3916  29450  \n",
       "4           28        18        3916  34500  "
      ]
     },
     "execution_count": 4,
     "metadata": {},
     "output_type": "execute_result"
    }
   ],
   "source": [
    "df.head()"
   ]
  },
  {
   "cell_type": "code",
   "execution_count": 5,
   "id": "897bc458-820b-47d8-be40-c053ffceb42f",
   "metadata": {},
   "outputs": [
    {
     "name": "stdout",
     "output_type": "stream",
     "text": [
      "<class 'pandas.core.frame.DataFrame'>\n",
      "RangeIndex: 11914 entries, 0 to 11913\n",
      "Data columns (total 16 columns):\n",
      " #   Column             Non-Null Count  Dtype  \n",
      "---  ------             --------------  -----  \n",
      " 0   Make               11914 non-null  object \n",
      " 1   Model              11914 non-null  object \n",
      " 2   Year               11914 non-null  int64  \n",
      " 3   Engine Fuel Type   11911 non-null  object \n",
      " 4   Engine HP          11845 non-null  float64\n",
      " 5   Engine Cylinders   11884 non-null  float64\n",
      " 6   Transmission Type  11914 non-null  object \n",
      " 7   Driven_Wheels      11914 non-null  object \n",
      " 8   Number of Doors    11908 non-null  float64\n",
      " 9   Market Category    8172 non-null   object \n",
      " 10  Vehicle Size       11914 non-null  object \n",
      " 11  Vehicle Style      11914 non-null  object \n",
      " 12  highway MPG        11914 non-null  int64  \n",
      " 13  city mpg           11914 non-null  int64  \n",
      " 14  Popularity         11914 non-null  int64  \n",
      " 15  MSRP               11914 non-null  int64  \n",
      "dtypes: float64(3), int64(5), object(8)\n",
      "memory usage: 1.5+ MB\n"
     ]
    }
   ],
   "source": [
    "df.info()"
   ]
  },
  {
   "cell_type": "code",
   "execution_count": 6,
   "id": "6f29135a-59b8-4b76-8e31-fd08605f5b3f",
   "metadata": {},
   "outputs": [
    {
     "data": {
      "text/html": [
       "<div>\n",
       "<style scoped>\n",
       "    .dataframe tbody tr th:only-of-type {\n",
       "        vertical-align: middle;\n",
       "    }\n",
       "\n",
       "    .dataframe tbody tr th {\n",
       "        vertical-align: top;\n",
       "    }\n",
       "\n",
       "    .dataframe thead th {\n",
       "        text-align: right;\n",
       "    }\n",
       "</style>\n",
       "<table border=\"1\" class=\"dataframe\">\n",
       "  <thead>\n",
       "    <tr style=\"text-align: right;\">\n",
       "      <th></th>\n",
       "      <th>Year</th>\n",
       "      <th>Engine HP</th>\n",
       "      <th>Engine Cylinders</th>\n",
       "      <th>Number of Doors</th>\n",
       "      <th>highway MPG</th>\n",
       "      <th>city mpg</th>\n",
       "      <th>Popularity</th>\n",
       "      <th>MSRP</th>\n",
       "    </tr>\n",
       "  </thead>\n",
       "  <tbody>\n",
       "    <tr>\n",
       "      <th>count</th>\n",
       "      <td>11914.000000</td>\n",
       "      <td>11845.00000</td>\n",
       "      <td>11884.000000</td>\n",
       "      <td>11908.000000</td>\n",
       "      <td>11914.000000</td>\n",
       "      <td>11914.000000</td>\n",
       "      <td>11914.000000</td>\n",
       "      <td>1.191400e+04</td>\n",
       "    </tr>\n",
       "    <tr>\n",
       "      <th>mean</th>\n",
       "      <td>2010.384338</td>\n",
       "      <td>249.38607</td>\n",
       "      <td>5.628829</td>\n",
       "      <td>3.436093</td>\n",
       "      <td>26.637485</td>\n",
       "      <td>19.733255</td>\n",
       "      <td>1554.911197</td>\n",
       "      <td>4.059474e+04</td>\n",
       "    </tr>\n",
       "    <tr>\n",
       "      <th>std</th>\n",
       "      <td>7.579740</td>\n",
       "      <td>109.19187</td>\n",
       "      <td>1.780559</td>\n",
       "      <td>0.881315</td>\n",
       "      <td>8.863001</td>\n",
       "      <td>8.987798</td>\n",
       "      <td>1441.855347</td>\n",
       "      <td>6.010910e+04</td>\n",
       "    </tr>\n",
       "    <tr>\n",
       "      <th>min</th>\n",
       "      <td>1990.000000</td>\n",
       "      <td>55.00000</td>\n",
       "      <td>0.000000</td>\n",
       "      <td>2.000000</td>\n",
       "      <td>12.000000</td>\n",
       "      <td>7.000000</td>\n",
       "      <td>2.000000</td>\n",
       "      <td>2.000000e+03</td>\n",
       "    </tr>\n",
       "    <tr>\n",
       "      <th>25%</th>\n",
       "      <td>2007.000000</td>\n",
       "      <td>170.00000</td>\n",
       "      <td>4.000000</td>\n",
       "      <td>2.000000</td>\n",
       "      <td>22.000000</td>\n",
       "      <td>16.000000</td>\n",
       "      <td>549.000000</td>\n",
       "      <td>2.100000e+04</td>\n",
       "    </tr>\n",
       "    <tr>\n",
       "      <th>50%</th>\n",
       "      <td>2015.000000</td>\n",
       "      <td>227.00000</td>\n",
       "      <td>6.000000</td>\n",
       "      <td>4.000000</td>\n",
       "      <td>26.000000</td>\n",
       "      <td>18.000000</td>\n",
       "      <td>1385.000000</td>\n",
       "      <td>2.999500e+04</td>\n",
       "    </tr>\n",
       "    <tr>\n",
       "      <th>75%</th>\n",
       "      <td>2016.000000</td>\n",
       "      <td>300.00000</td>\n",
       "      <td>6.000000</td>\n",
       "      <td>4.000000</td>\n",
       "      <td>30.000000</td>\n",
       "      <td>22.000000</td>\n",
       "      <td>2009.000000</td>\n",
       "      <td>4.223125e+04</td>\n",
       "    </tr>\n",
       "    <tr>\n",
       "      <th>max</th>\n",
       "      <td>2017.000000</td>\n",
       "      <td>1001.00000</td>\n",
       "      <td>16.000000</td>\n",
       "      <td>4.000000</td>\n",
       "      <td>354.000000</td>\n",
       "      <td>137.000000</td>\n",
       "      <td>5657.000000</td>\n",
       "      <td>2.065902e+06</td>\n",
       "    </tr>\n",
       "  </tbody>\n",
       "</table>\n",
       "</div>"
      ],
      "text/plain": [
       "               Year    Engine HP  Engine Cylinders  Number of Doors  \\\n",
       "count  11914.000000  11845.00000      11884.000000     11908.000000   \n",
       "mean    2010.384338    249.38607          5.628829         3.436093   \n",
       "std        7.579740    109.19187          1.780559         0.881315   \n",
       "min     1990.000000     55.00000          0.000000         2.000000   \n",
       "25%     2007.000000    170.00000          4.000000         2.000000   \n",
       "50%     2015.000000    227.00000          6.000000         4.000000   \n",
       "75%     2016.000000    300.00000          6.000000         4.000000   \n",
       "max     2017.000000   1001.00000         16.000000         4.000000   \n",
       "\n",
       "        highway MPG      city mpg    Popularity          MSRP  \n",
       "count  11914.000000  11914.000000  11914.000000  1.191400e+04  \n",
       "mean      26.637485     19.733255   1554.911197  4.059474e+04  \n",
       "std        8.863001      8.987798   1441.855347  6.010910e+04  \n",
       "min       12.000000      7.000000      2.000000  2.000000e+03  \n",
       "25%       22.000000     16.000000    549.000000  2.100000e+04  \n",
       "50%       26.000000     18.000000   1385.000000  2.999500e+04  \n",
       "75%       30.000000     22.000000   2009.000000  4.223125e+04  \n",
       "max      354.000000    137.000000   5657.000000  2.065902e+06  "
      ]
     },
     "execution_count": 6,
     "metadata": {},
     "output_type": "execute_result"
    }
   ],
   "source": [
    "df.describe()"
   ]
  },
  {
   "cell_type": "code",
   "execution_count": 7,
   "id": "b5f7b52e-3eb2-4fc0-a1a7-37ac6cafb80e",
   "metadata": {},
   "outputs": [
    {
     "data": {
      "text/plain": [
       "<Axes: xlabel='MSRP', ylabel='Count'>"
      ]
     },
     "execution_count": 7,
     "metadata": {},
     "output_type": "execute_result"
    },
    {
     "data": {
      "image/png": "[encoded data removed]",
      "text/plain": [
       "<Figure size 640x480 with 1 Axes>"
      ]
     },
     "metadata": {},
     "output_type": "display_data"
    }
   ],
   "source": [
    "sns.histplot(df.MSRP[df.MSRP>1000000], bins=40) "
   ]
  },
  {
   "cell_type": "code",
   "execution_count": 8,
   "id": "754e0324-b0a9-41a6-8582-e3d69f48fd61",
   "metadata": {},
   "outputs": [],
   "source": [
    "df.rename(columns = {'MSRP': 'price'}, inplace = True)\n"
   ]
  },
  {
   "cell_type": "code",
   "execution_count": 9,
   "id": "d6907cf7-a162-4c65-905c-4b8a6391083b",
   "metadata": {},
   "outputs": [
    {
     "data": {
      "image/png": "[encoded data removed]",
      "text/plain": [
       "<Figure size 600x400 with 1 Axes>"
      ]
     },
     "metadata": {},
     "output_type": "display_data"
    }
   ],
   "source": [
    "df['log_price'] = np.log1p(df.price)\n",
    "\n",
    "plt.figure(figsize=(6, 4))\n",
    "\n",
    "sns.histplot(df.log_price, bins=40)\n",
    "plt.ylabel('Frequency')\n",
    "plt.xlabel('Log(Price + 1)')\n",
    "plt.title('Distribution of prices after log tranformation')\n",
    "\n",
    "plt.show()"
   ]
  },
  {
   "cell_type": "code",
   "execution_count": 10,
   "id": "8dc5be9e-c28b-468d-a460-5e444732b6d7",
   "metadata": {},
   "outputs": [
    {
     "data": {
      "text/plain": [
       "11.771987129334972"
      ]
     },
     "execution_count": 10,
     "metadata": {},
     "output_type": "execute_result"
    }
   ],
   "source": [
    "df.price.skew()\n"
   ]
  },
  {
   "cell_type": "code",
   "execution_count": 11,
   "id": "cc36dd25-8f14-4648-adf5-90f36f89657a",
   "metadata": {},
   "outputs": [
    {
     "data": {
      "text/plain": [
       "-0.9178678067039072"
      ]
     },
     "execution_count": 11,
     "metadata": {},
     "output_type": "execute_result"
    }
   ],
   "source": [
    "df.log_price.skew()\n"
   ]
  },
  {
   "cell_type": "code",
   "execution_count": 12,
   "id": "e9c8a621-667e-4941-8ace-09324a251cf4",
   "metadata": {},
   "outputs": [],
   "source": [
    "np.random.seed(2)\n",
    "n = len(df)"
   ]
  },
  {
   "cell_type": "code",
   "execution_count": 13,
   "id": "7212fb3b-080c-4e91-a6f9-2a15fe61de0e",
   "metadata": {},
   "outputs": [],
   "source": [
    "idx = np.arange(n)\n",
    "np.random.shuffle(idx)"
   ]
  },
  {
   "cell_type": "code",
   "execution_count": 14,
   "id": "f8b3a83d-699a-4794-8bdf-486b85921887",
   "metadata": {},
   "outputs": [],
   "source": [
    "df_shuffle = df.iloc[idx]\n",
    "df = df_shuffle"
   ]
  },
  {
   "cell_type": "code",
   "execution_count": null,
   "id": "89174367-3218-4a19-b221-09ed575584a0",
   "metadata": {},
   "outputs": [],
   "source": []
  },
  {
   "cell_type": "code",
   "execution_count": 15,
   "id": "85fb3237-b494-4918-bfd5-dc7d4193fa0d",
   "metadata": {},
   "outputs": [],
   "source": [
    "base= ['Year','Engine HP','Engine Cylinders','Number of Doors','highway MPG','city mpg','Popularity','log_price']"
   ]
  },
  {
   "cell_type": "code",
   "execution_count": 16,
   "id": "837fcd36-a906-43f1-a200-a66f6bd7f2a4",
   "metadata": {},
   "outputs": [],
   "source": [
    "df_n = df[base]"
   ]
  },
  {
   "cell_type": "code",
   "execution_count": 17,
   "id": "721f0e78-81d1-4450-a8da-2f484ebc5ff6",
   "metadata": {},
   "outputs": [],
   "source": [
    "df_n = df_n.fillna(df_n.mean())\n"
   ]
  },
  {
   "cell_type": "code",
   "execution_count": null,
   "id": "b875f673-97b9-48dc-a078-97d315322d1d",
   "metadata": {},
   "outputs": [],
   "source": []
  },
  {
   "cell_type": "code",
   "execution_count": 18,
   "id": "79a2ce5e-7945-401b-b725-ceb63647343e",
   "metadata": {},
   "outputs": [],
   "source": [
    "n_val   = int(n*0.2) \n",
    "n_test  = int(n*0.2)\n",
    "n_train = n-n_val-n_test"
   ]
  },
  {
   "cell_type": "code",
   "execution_count": 19,
   "id": "52382d9c-3a4a-4551-8f18-c19aa7e32bdb",
   "metadata": {},
   "outputs": [],
   "source": [
    "df_train = df_n.iloc[:n_train].copy()\n",
    "df_val   = df_n.iloc[n_train : n_train+n_val].copy()\n",
    "df_test  = df_n.iloc[n_train+n_val:].copy()"
   ]
  },
  {
   "cell_type": "code",
   "execution_count": 20,
   "id": "bfce63d8-6cd0-45d6-bb1d-876c0756a6fc",
   "metadata": {},
   "outputs": [],
   "source": [
    "y_train = df_train.log_price.values\n",
    "y_val   = df_val.log_price.values\n",
    "y_test  = df_test.log_price.values"
   ]
  },
  {
   "cell_type": "code",
   "execution_count": 21,
   "id": "b17dfcfd-9336-47b9-899a-edc905aa7dbf",
   "metadata": {},
   "outputs": [],
   "source": [
    "x_base= ['Year','Engine HP','Engine Cylinders','Number of Doors','highway MPG','city mpg','Popularity']"
   ]
  },
  {
   "cell_type": "code",
   "execution_count": 22,
   "id": "413718b1-e491-40f2-9ae4-a85f5e4b5649",
   "metadata": {},
   "outputs": [],
   "source": [
    "x_train = df_train[x_base]\n",
    "x_val   = df_val[x_base]\n",
    "x_test  = df_test[x_base]"
   ]
  },
  {
   "cell_type": "code",
   "execution_count": 23,
   "id": "e9034c86-6f80-447f-897c-1944d2651270",
   "metadata": {},
   "outputs": [
    {
     "data": {
      "text/html": [
       "<div>\n",
       "<style scoped>\n",
       "    .dataframe tbody tr th:only-of-type {\n",
       "        vertical-align: middle;\n",
       "    }\n",
       "\n",
       "    .dataframe tbody tr th {\n",
       "        vertical-align: top;\n",
       "    }\n",
       "\n",
       "    .dataframe thead th {\n",
       "        text-align: right;\n",
       "    }\n",
       "</style>\n",
       "<table border=\"1\" class=\"dataframe\">\n",
       "  <thead>\n",
       "    <tr style=\"text-align: right;\">\n",
       "      <th></th>\n",
       "      <th>Year</th>\n",
       "      <th>Engine HP</th>\n",
       "      <th>Engine Cylinders</th>\n",
       "      <th>Number of Doors</th>\n",
       "      <th>highway MPG</th>\n",
       "      <th>city mpg</th>\n",
       "      <th>Popularity</th>\n",
       "      <th>log_price</th>\n",
       "    </tr>\n",
       "  </thead>\n",
       "  <tbody>\n",
       "    <tr>\n",
       "      <th>Year</th>\n",
       "      <td>1.000000</td>\n",
       "      <td>0.351288</td>\n",
       "      <td>-0.041446</td>\n",
       "      <td>0.263756</td>\n",
       "      <td>0.258240</td>\n",
       "      <td>0.198171</td>\n",
       "      <td>0.073049</td>\n",
       "      <td>0.768124</td>\n",
       "    </tr>\n",
       "    <tr>\n",
       "      <th>Engine HP</th>\n",
       "      <td>0.351288</td>\n",
       "      <td>1.000000</td>\n",
       "      <td>0.764986</td>\n",
       "      <td>-0.102511</td>\n",
       "      <td>-0.353343</td>\n",
       "      <td>-0.346308</td>\n",
       "      <td>0.037315</td>\n",
       "      <td>0.678302</td>\n",
       "    </tr>\n",
       "    <tr>\n",
       "      <th>Engine Cylinders</th>\n",
       "      <td>-0.041446</td>\n",
       "      <td>0.764986</td>\n",
       "      <td>1.000000</td>\n",
       "      <td>-0.139607</td>\n",
       "      <td>-0.602294</td>\n",
       "      <td>-0.566980</td>\n",
       "      <td>0.041125</td>\n",
       "      <td>0.356566</td>\n",
       "    </tr>\n",
       "    <tr>\n",
       "      <th>Number of Doors</th>\n",
       "      <td>0.263756</td>\n",
       "      <td>-0.102511</td>\n",
       "      <td>-0.139607</td>\n",
       "      <td>1.000000</td>\n",
       "      <td>0.116669</td>\n",
       "      <td>0.118932</td>\n",
       "      <td>-0.048271</td>\n",
       "      <td>0.107867</td>\n",
       "    </tr>\n",
       "    <tr>\n",
       "      <th>highway MPG</th>\n",
       "      <td>0.258240</td>\n",
       "      <td>-0.353343</td>\n",
       "      <td>-0.602294</td>\n",
       "      <td>0.116669</td>\n",
       "      <td>1.000000</td>\n",
       "      <td>0.886829</td>\n",
       "      <td>-0.020991</td>\n",
       "      <td>-0.014452</td>\n",
       "    </tr>\n",
       "    <tr>\n",
       "      <th>city mpg</th>\n",
       "      <td>0.198171</td>\n",
       "      <td>-0.346308</td>\n",
       "      <td>-0.566980</td>\n",
       "      <td>0.118932</td>\n",
       "      <td>0.886829</td>\n",
       "      <td>1.000000</td>\n",
       "      <td>-0.003217</td>\n",
       "      <td>-0.039361</td>\n",
       "    </tr>\n",
       "    <tr>\n",
       "      <th>Popularity</th>\n",
       "      <td>0.073049</td>\n",
       "      <td>0.037315</td>\n",
       "      <td>0.041125</td>\n",
       "      <td>-0.048271</td>\n",
       "      <td>-0.020991</td>\n",
       "      <td>-0.003217</td>\n",
       "      <td>1.000000</td>\n",
       "      <td>-0.000419</td>\n",
       "    </tr>\n",
       "    <tr>\n",
       "      <th>log_price</th>\n",
       "      <td>0.768124</td>\n",
       "      <td>0.678302</td>\n",
       "      <td>0.356566</td>\n",
       "      <td>0.107867</td>\n",
       "      <td>-0.014452</td>\n",
       "      <td>-0.039361</td>\n",
       "      <td>-0.000419</td>\n",
       "      <td>1.000000</td>\n",
       "    </tr>\n",
       "  </tbody>\n",
       "</table>\n",
       "</div>"
      ],
      "text/plain": [
       "                      Year  Engine HP  Engine Cylinders  Number of Doors  \\\n",
       "Year              1.000000   0.351288         -0.041446         0.263756   \n",
       "Engine HP         0.351288   1.000000          0.764986        -0.102511   \n",
       "Engine Cylinders -0.041446   0.764986          1.000000        -0.139607   \n",
       "Number of Doors   0.263756  -0.102511         -0.139607         1.000000   \n",
       "highway MPG       0.258240  -0.353343         -0.602294         0.116669   \n",
       "city mpg          0.198171  -0.346308         -0.566980         0.118932   \n",
       "Popularity        0.073049   0.037315          0.041125        -0.048271   \n",
       "log_price         0.768124   0.678302          0.356566         0.107867   \n",
       "\n",
       "                  highway MPG  city mpg  Popularity  log_price  \n",
       "Year                 0.258240  0.198171    0.073049   0.768124  \n",
       "Engine HP           -0.353343 -0.346308    0.037315   0.678302  \n",
       "Engine Cylinders    -0.602294 -0.566980    0.041125   0.356566  \n",
       "Number of Doors      0.116669  0.118932   -0.048271   0.107867  \n",
       "highway MPG          1.000000  0.886829   -0.020991  -0.014452  \n",
       "city mpg             0.886829  1.000000   -0.003217  -0.039361  \n",
       "Popularity          -0.020991 -0.003217    1.000000  -0.000419  \n",
       "log_price           -0.014452 -0.039361   -0.000419   1.000000  "
      ]
     },
     "execution_count": 23,
     "metadata": {},
     "output_type": "execute_result"
    }
   ],
   "source": [
    "df_n.corr()\n"
   ]
  },
  {
   "cell_type": "code",
   "execution_count": null,
   "id": "d909bd1a-691c-4dc0-8595-237c28ad9d1b",
   "metadata": {},
   "outputs": [],
   "source": []
  },
  {
   "cell_type": "code",
   "execution_count": 24,
   "id": "16438681-69ec-470b-b49c-da0ca39baa3d",
   "metadata": {},
   "outputs": [],
   "source": [
    "ones  = np.ones(x_train.shape[0])\n",
    "x_train_1 = np.column_stack([ones , x_train])"
   ]
  },
  {
   "cell_type": "code",
   "execution_count": 25,
   "id": "814a5b35-fd44-4d55-b754-e973f9d004a8",
   "metadata": {},
   "outputs": [
    {
     "data": {
      "text/plain": [
       "(7150, 8)"
      ]
     },
     "execution_count": 25,
     "metadata": {},
     "output_type": "execute_result"
    }
   ],
   "source": [
    "x_train_1.shape\n",
    "\n"
   ]
  },
  {
   "cell_type": "code",
   "execution_count": 36,
   "id": "3aa3ab25-4bc5-42b9-b489-4e0c2f125542",
   "metadata": {},
   "outputs": [],
   "source": [
    "xtx = x_train_1.T.dot(x_train_1)\n",
    "xtx_inv = np.linalg.inv(xtx)\n",
    "w = xtx_inv.dot (x_train_1.T).dot(y_train)"
   ]
  },
  {
   "cell_type": "code",
   "execution_count": 37,
   "id": "157aa9a4-3b90-4c1f-900d-898a62034335",
   "metadata": {},
   "outputs": [],
   "source": [
    "w_0=w[0]\n",
    "w=w[1:]"
   ]
  },
  {
   "cell_type": "code",
   "execution_count": 38,
   "id": "beb313c5-44c1-414b-b351-502d041b507b",
   "metadata": {},
   "outputs": [],
   "source": [
    "y_pred_1 = w_0 + x_train.dot(w)"
   ]
  },
  {
   "cell_type": "code",
   "execution_count": 39,
   "id": "d69a7b6b-f47d-48a2-a501-b55202e62099",
   "metadata": {},
   "outputs": [
    {
     "data": {
      "text/plain": [
       "0.5115353396761373"
      ]
     },
     "execution_count": 39,
     "metadata": {},
     "output_type": "execute_result"
    }
   ],
   "source": [
    "error = y_train - y_pred_1 \n",
    "mse  = (error ** 2).mean()\n",
    "rmse = np.sqrt(mse)\n",
    "rmse"
   ]
  },
  {
   "cell_type": "code",
   "execution_count": 42,
   "id": "c3896e2e-2f72-44d4-a2a1-7dc45773fb4f",
   "metadata": {},
   "outputs": [],
   "source": [
    "y_pred_3 = w_0 + x_test.dot(w)"
   ]
  },
  {
   "cell_type": "code",
   "execution_count": 44,
   "id": "bf03ed63-6323-476a-bfaf-3895c140809e",
   "metadata": {},
   "outputs": [
    {
     "data": {
      "text/plain": [
       "0.5075286606244083"
      ]
     },
     "execution_count": 44,
     "metadata": {},
     "output_type": "execute_result"
    }
   ],
   "source": [
    "error = y_test - y_pred_3\n",
    "mse  = (error ** 2).mean()\n",
    "rmse = np.sqrt(mse)\n",
    "rmse"
   ]
  },
  {
   "cell_type": "code",
   "execution_count": null,
   "id": "9450ff48-65a7-4ee9-8e6c-099ce9d2a628",
   "metadata": {},
   "outputs": [],
   "source": []
  }
 ],
 "metadata": {
  "kernelspec": {
   "display_name": "Python 3 (ipykernel)",
   "language": "python",
   "name": "python3"
  },
  "language_info": {
   "codemirror_mode": {
    "name": "ipython",
    "version": 3
   },
   "file_extension": ".py",
   "mimetype": "text/x-python",
   "name": "python",
   "nbconvert_exporter": "python",
   "pygments_lexer": "ipython3",
   "version": "3.12.4"
  }
 },
 "nbformat": 4,
 "nbformat_minor": 5
}
