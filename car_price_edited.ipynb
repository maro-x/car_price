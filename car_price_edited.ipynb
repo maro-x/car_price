{
 "cells": [
  {
   "cell_type": "code",
   "execution_count": null,
   "id": "ccf1f535-a125-4c89-80bc-e77c57b248e9",
   "metadata": {},
   "outputs": [],
   "source": [
    "## reading data"
   ]
  },
  {
   "cell_type": "code",
   "execution_count": null,
   "id": "4b51b044-bf0b-4519-a56b-aff0ca2dde51",
   "metadata": {},
   "outputs": [],
   "source": []
  },
  {
   "cell_type": "code",
   "execution_count": null,
   "id": "fb33aa88-a32a-44d1-9fc7-93d386639e20",
   "metadata": {},
   "outputs": [],
   "source": [
    "!git clone https://github.com/alexeygrigorev/mlbookcamp-code"
   ]
  },
  {
   "cell_type": "code",
   "execution_count": null,
   "id": "c6be07b8-57e2-4483-bfb9-9f3e815b6996",
   "metadata": {},
   "outputs": [],
   "source": [
    "import pandas as pd\n",
    "import numpy as np\n",
    "\n",
    "import seaborn as sns\n",
    "sns.set()\n",
    "from matplotlib import pyplot as plt\n"
   ]
  },
  {
   "cell_type": "code",
   "execution_count": null,
   "id": "b0204f8c-a2dc-489a-aee3-e1e7809e7ce3",
   "metadata": {},
   "outputs": [],
   "source": [
    "df_1 = pd.read_csv('mlbookcamp-code/chapter-02-car-price/data.csv')\n",
    "df=df_1\n",
    "len(df)"
   ]
  },
  {
   "cell_type": "code",
   "execution_count": null,
   "id": "615b45e2-4dc6-45bb-9ea9-2cb1ed68f2a8",
   "metadata": {},
   "outputs": [],
   "source": [
    "df.head()"
   ]
  },
  {
   "cell_type": "code",
   "execution_count": null,
   "id": "897bc458-820b-47d8-be40-c053ffceb42f",
   "metadata": {},
   "outputs": [],
   "source": [
    "df.info()"
   ]
  },
  {
   "cell_type": "code",
   "execution_count": null,
   "id": "6f29135a-59b8-4b76-8e31-fd08605f5b3f",
   "metadata": {},
   "outputs": [],
   "source": [
    "df.describe()"
   ]
  },
  {
   "cell_type": "code",
   "execution_count": null,
   "id": "b5f7b52e-3eb2-4fc0-a1a7-37ac6cafb80e",
   "metadata": {},
   "outputs": [],
   "source": [
    "sns.histplot(df.MSRP[df.MSRP>1000000], bins=40) "
   ]
  },
  {
   "cell_type": "code",
   "execution_count": null,
   "id": "c58f6eb7-4736-49b6-9a49-529625c9b013",
   "metadata": {},
   "outputs": [],
   "source": []
  },
  {
   "cell_type": "code",
   "execution_count": null,
   "id": "78c6d017-12a9-43c2-94e6-709b5e21dcf4",
   "metadata": {},
   "outputs": [],
   "source": [
    "## handling the target"
   ]
  },
  {
   "cell_type": "code",
   "execution_count": null,
   "id": "25344d98-f713-420a-af2b-207c89f75723",
   "metadata": {},
   "outputs": [],
   "source": []
  },
  {
   "cell_type": "code",
   "execution_count": null,
   "id": "24595ed0-b671-4ace-b5de-b6135d5b2ecd",
   "metadata": {},
   "outputs": [],
   "source": []
  },
  {
   "cell_type": "code",
   "execution_count": null,
   "id": "26b83cab-35e0-48e1-ac1d-542ef63edb77",
   "metadata": {},
   "outputs": [],
   "source": [
    "df.columns = df.columns.str.lower().str.replace(' ', '_')\n",
    "\n",
    "string_columns = list(df.dtypes[df.dtypes == 'object'].index)\n",
    "print(string_columns)\n",
    "for col in string_columns:\n",
    "    df[col] = df[col].str.lower().str.replace(' ', '_')"
   ]
  },
  {
   "cell_type": "code",
   "execution_count": null,
   "id": "754e0324-b0a9-41a6-8582-e3d69f48fd61",
   "metadata": {},
   "outputs": [],
   "source": [
    "df.rename(columns = {'msrp': 'price'}, inplace = True)\n"
   ]
  },
  {
   "cell_type": "code",
   "execution_count": null,
   "id": "d6907cf7-a162-4c65-905c-4b8a6391083b",
   "metadata": {},
   "outputs": [],
   "source": [
    "df['log_price'] = np.log1p(df.price)\n",
    "\n",
    "plt.figure(figsize=(6, 4))\n",
    "\n",
    "sns.histplot(df.log_price, bins=40)\n",
    "plt.ylabel('Frequency')\n",
    "plt.xlabel('Log(Price + 1)')\n",
    "plt.title('Distribution of prices after log tranformation')\n",
    "\n",
    "plt.show()"
   ]
  },
  {
   "cell_type": "code",
   "execution_count": null,
   "id": "8dc5be9e-c28b-468d-a460-5e444732b6d7",
   "metadata": {},
   "outputs": [],
   "source": [
    "df.price.skew()\n"
   ]
  },
  {
   "cell_type": "code",
   "execution_count": null,
   "id": "cc36dd25-8f14-4648-adf5-90f36f89657a",
   "metadata": {},
   "outputs": [],
   "source": [
    "df.log_price.skew()\n"
   ]
  },
  {
   "cell_type": "code",
   "execution_count": null,
   "id": "b9c3b5d2-ac63-47c9-930d-625cfbf36261",
   "metadata": {},
   "outputs": [],
   "source": []
  },
  {
   "cell_type": "code",
   "execution_count": null,
   "id": "c14a4c7d-9162-45c9-8183-9efaedbc9bfd",
   "metadata": {},
   "outputs": [],
   "source": [
    "##  handling the features"
   ]
  },
  {
   "cell_type": "code",
   "execution_count": null,
   "id": "f40b3539-df96-4970-8f32-90869c7c37ca",
   "metadata": {},
   "outputs": [],
   "source": []
  },
  {
   "cell_type": "code",
   "execution_count": null,
   "id": "7e8f8309-c348-4d3c-a21f-d89cae1a3770",
   "metadata": {},
   "outputs": [],
   "source": []
  },
  {
   "cell_type": "code",
   "execution_count": null,
   "id": "fa3ee5a4-ad8a-478f-8f51-235944c587ae",
   "metadata": {},
   "outputs": [],
   "source": []
  },
  {
   "cell_type": "code",
   "execution_count": null,
   "id": "e9c8a621-667e-4941-8ace-09324a251cf4",
   "metadata": {},
   "outputs": [],
   "source": [
    "np.random.seed(2)     # Fixes the random seed to make sure that the results are reproducible\n",
    "\n",
    "n = len(df) \n",
    "\n",
    "n_val = int(0.2 * n)\n",
    "n_test = int(0.2 * n)\n",
    "n_train = n - (n_val + n_test)"
   ]
  },
  {
   "cell_type": "code",
   "execution_count": null,
   "id": "f2b82a90-1aa7-4755-a69d-5eedfa7e5ed3",
   "metadata": {},
   "outputs": [],
   "source": [
    "idx = np.arange(n)\n",
    "print(idx)\n",
    "np.random.shuffle(idx)\n",
    "print(idx)"
   ]
  },
  {
   "cell_type": "code",
   "execution_count": null,
   "id": "b1055cb2-0c73-48f9-bec5-357e6d55f237",
   "metadata": {},
   "outputs": [],
   "source": [
    "df_shuffled = df.iloc[idx]\n",
    "print(df.index)\n",
    "print(df_shuffled.index)"
   ]
  },
  {
   "cell_type": "code",
   "execution_count": null,
   "id": "975445f4-841a-47f0-a0f2-232ea1190032",
   "metadata": {},
   "outputs": [],
   "source": []
  },
  {
   "cell_type": "code",
   "execution_count": null,
   "id": "52382d9c-3a4a-4551-8f18-c19aa7e32bdb",
   "metadata": {},
   "outputs": [],
   "source": [
    "df_train = df_shuffled.iloc[:n_train].copy()\n",
    "df_val   = df_shuffled.iloc[n_train:n_train+n_val].copy()\n",
    "df_test  = df_shuffled.iloc[n_train+n_val:].copy()"
   ]
  },
  {
   "cell_type": "code",
   "execution_count": null,
   "id": "bfce63d8-6cd0-45d6-bb1d-876c0756a6fc",
   "metadata": {},
   "outputs": [],
   "source": [
    "y_train = df_train.log_price.values\n",
    "y_val = df_val.log_price.values\n",
    "y_test = df_test.log_price.values"
   ]
  },
  {
   "cell_type": "code",
   "execution_count": null,
   "id": "89174367-3218-4a19-b221-09ed575584a0",
   "metadata": {},
   "outputs": [],
   "source": []
  },
  {
   "cell_type": "code",
   "execution_count": null,
   "id": "b17dfcfd-9336-47b9-899a-edc905aa7dbf",
   "metadata": {},
   "outputs": [],
   "source": [
    "base = ['engine_hp', 'engine_cylinders', 'highway_mpg', 'city_mpg', 'popularity'] "
   ]
  },
  {
   "cell_type": "code",
   "execution_count": null,
   "id": "837fcd36-a906-43f1-a200-a66f6bd7f2a4",
   "metadata": {},
   "outputs": [],
   "source": [
    "df[base].isnull().sum()"
   ]
  },
  {
   "cell_type": "code",
   "execution_count": null,
   "id": "721f0e78-81d1-4450-a8da-2f484ebc5ff6",
   "metadata": {},
   "outputs": [],
   "source": [
    "def prepare_X(df):\n",
    "    df_num = df[base]\n",
    "    df_num = df_num.fillna(df_num.mean())\n",
    "    X = df_num.values\n",
    "    return X"
   ]
  },
  {
   "cell_type": "code",
   "execution_count": null,
   "id": "f9389d79-7263-4b89-8928-695e05bf6cf2",
   "metadata": {},
   "outputs": [],
   "source": []
  },
  {
   "cell_type": "code",
   "execution_count": null,
   "id": "5a66771d-d05d-42ee-8e3c-49c1e3a35908",
   "metadata": {},
   "outputs": [],
   "source": [
    "## implementing normal equation "
   ]
  },
  {
   "cell_type": "code",
   "execution_count": null,
   "id": "3fecb6a9-5267-4943-aeb7-a981da5e8e5b",
   "metadata": {},
   "outputs": [],
   "source": []
  },
  {
   "cell_type": "code",
   "execution_count": null,
   "id": "413718b1-e491-40f2-9ae4-a85f5e4b5649",
   "metadata": {},
   "outputs": [],
   "source": [
    "def train_linear_regression(X, y):\n",
    "    ones = np.ones(X.shape[0])\n",
    "    X = np.column_stack([ones, X])\n",
    "\n",
    "    XTX = X.T.dot(X)\n",
    "    XTX_inv = np.linalg.inv(XTX)\n",
    "    w = XTX_inv.dot(X.T).dot(y)\n",
    "    \n",
    "    return w[0], w[1:]"
   ]
  },
  {
   "cell_type": "code",
   "execution_count": null,
   "id": "b5f18740-9d29-43b6-a1d1-95b9515561a9",
   "metadata": {},
   "outputs": [],
   "source": []
  },
  {
   "cell_type": "code",
   "execution_count": null,
   "id": "e9034c86-6f80-447f-897c-1944d2651270",
   "metadata": {},
   "outputs": [],
   "source": [
    "X_train = prepare_X(df_train)\n",
    "w_0, w = train_linear_regression(X_train, y_train)\n",
    "y_pred = w_0 + X_train.dot(w)\n"
   ]
  },
  {
   "cell_type": "code",
   "execution_count": null,
   "id": "85a39794-eccf-4830-9812-4f94dc41ab2a",
   "metadata": {},
   "outputs": [],
   "source": []
  },
  {
   "cell_type": "code",
   "execution_count": null,
   "id": "d69a7b6b-f47d-48a2-a501-b55202e62099",
   "metadata": {},
   "outputs": [],
   "source": [
    "def rmse(y, y_pred):\n",
    "    error = y_pred - y\n",
    "    mse = (error ** 2).mean()\n",
    "    return np.sqrt(mse)"
   ]
  },
  {
   "cell_type": "code",
   "execution_count": null,
   "id": "c3896e2e-2f72-44d4-a2a1-7dc45773fb4f",
   "metadata": {},
   "outputs": [],
   "source": [
    "rmse(y_train, y_pred)"
   ]
  },
  {
   "cell_type": "code",
   "execution_count": null,
   "id": "9450ff48-65a7-4ee9-8e6c-099ce9d2a628",
   "metadata": {},
   "outputs": [],
   "source": [
    "X_val = prepare_X(df_val)\n",
    "y_pred = w_0 + X_val.dot(w)"
   ]
  },
  {
   "cell_type": "code",
   "execution_count": null,
   "id": "5575ce51-40f5-4fa6-aa59-1b997255fa5b",
   "metadata": {},
   "outputs": [],
   "source": [
    "rmse(y_val, y_pred)\n"
   ]
  },
  {
   "cell_type": "code",
   "execution_count": null,
   "id": "b2e4b044-8735-4118-b468-af1e2855646f",
   "metadata": {},
   "outputs": [],
   "source": []
  },
  {
   "cell_type": "code",
   "execution_count": null,
   "id": "6ffa3089-c9a9-4241-83d5-6393b7f1f2a8",
   "metadata": {},
   "outputs": [],
   "source": [
    "## handling Categorical Variables"
   ]
  },
  {
   "cell_type": "code",
   "execution_count": null,
   "id": "01323315-9849-4160-9a02-5f55b7212cda",
   "metadata": {},
   "outputs": [],
   "source": []
  },
  {
   "cell_type": "code",
   "execution_count": null,
   "id": "a8a07d27-0944-4b2d-9527-3086d2276e60",
   "metadata": {},
   "outputs": [],
   "source": [
    "df.number_of_doors.value_counts()\n"
   ]
  },
  {
   "cell_type": "code",
   "execution_count": null,
   "id": "bb5c4659-0a53-49f5-bbe8-352c7de404ba",
   "metadata": {},
   "outputs": [],
   "source": [
    "df['make'].value_counts().head(10)\n"
   ]
  },
  {
   "cell_type": "code",
   "execution_count": null,
   "id": "68101769-b0c7-4a40-96ec-d426c600175d",
   "metadata": {},
   "outputs": [],
   "source": [
    "def prepare_X(df):\n",
    "    df = df.copy()\n",
    "    features = base.copy()\n",
    "\n",
    "    df['age'] = 2017 - df.year\n",
    "    features.append('age')\n",
    "\n",
    "    for v in [2, 3, 4]:\n",
    "        feature = 'num_doors_%s' % v\n",
    "        df[feature] = (df['number_of_doors'] == v).astype(int)\n",
    "        features.append(feature)\n",
    "\n",
    "    for v in ['chevrolet', 'ford', 'volkswagen', 'toyota', 'dodge']:\n",
    "        feature = 'is_make_%s' % v\n",
    "        df[feature] = (df['make'] == v).astype(int)\n",
    "        features.append(feature)\n",
    "\n",
    "    df_num = df[features]\n",
    "    df_num = df_num.fillna(df_num.mean())\n",
    "    X = df_num.values\n",
    "    return X"
   ]
  },
  {
   "cell_type": "code",
   "execution_count": null,
   "id": "8bd5435b-ed6e-429c-ace5-362a595f109f",
   "metadata": {},
   "outputs": [],
   "source": [
    "X_train = prepare_X(df_train)\n",
    "w_0, w = train_linear_regression(X_train, y_train)\n",
    "\n",
    "y_pred = w_0 + X_train.dot(w)\n",
    "print('train:', rmse(y_train, y_pred))\n",
    "\n",
    "X_val = prepare_X(df_val)\n",
    "y_pred = w_0 + X_val.dot(w)\n",
    "print('validation:', rmse(y_val, y_pred))"
   ]
  },
  {
   "cell_type": "code",
   "execution_count": null,
   "id": "b602cc78-a291-45a6-8c12-25d82203328d",
   "metadata": {},
   "outputs": [],
   "source": [
    "def prepare_X(df):\n",
    "    df = df.copy()\n",
    "    features = base.copy()\n",
    "\n",
    "    df['age'] = 2017 - df.year\n",
    "    features.append('age')\n",
    "    \n",
    "    for v in [2, 3, 4]:\n",
    "        feature = 'num_doors_%s' % v\n",
    "        df[feature] = (df['number_of_doors'] == v).astype(int)\n",
    "        features.append(feature)\n",
    "\n",
    "    for v in ['chevrolet', 'ford', 'volkswagen', 'toyota', 'dodge']:\n",
    "        feature = 'is_make_%s' % v\n",
    "        df[feature] = (df['make'] == v).astype(int)\n",
    "        features.append(feature)\n",
    "\n",
    "    for v in ['regular_unleaded', 'premium_unleaded_(required)', \n",
    "              'premium_unleaded_(recommended)', 'flex-fuel_(unleaded/e85)']:\n",
    "        feature = 'is_type_%s' % v\n",
    "        df[feature] = (df['engine_fuel_type'] == v).astype(int)\n",
    "        features.append(feature)\n",
    "        \n",
    "    df_num = df[features]\n",
    "    df_num = df_num.fillna(0)\n",
    "    X = df_num.values\n",
    "    return X"
   ]
  },
  {
   "cell_type": "code",
   "execution_count": null,
   "id": "73b883ce-0efa-45f4-8582-04c198c59fa0",
   "metadata": {},
   "outputs": [],
   "source": [
    "X_train = prepare_X(df_train)\n",
    "w_0, w = train_linear_regression(X_train, y_train)\n",
    "\n",
    "y_pred = w_0 + X_train.dot(w)\n",
    "print('train:', rmse(y_train, y_pred))\n",
    "\n",
    "X_val = prepare_X(df_val)\n",
    "y_pred = w_0 + X_val.dot(w)\n",
    "print('validation:', rmse(y_val, y_pred))"
   ]
  },
  {
   "cell_type": "code",
   "execution_count": null,
   "id": "95df2299-9f35-4f77-aa33-c22dc5094972",
   "metadata": {},
   "outputs": [],
   "source": [
    "def prepare_X(df):\n",
    "    df = df.copy()\n",
    "    features = base.copy()\n",
    "\n",
    "    df['age'] = 2017 - df.year\n",
    "    features.append('age')\n",
    "    \n",
    "    for v in [2, 3, 4]:\n",
    "        feature = 'num_doors_%s' % v\n",
    "        df[feature] = (df['number_of_doors'] == v).astype(int)\n",
    "        features.append(feature)\n",
    "\n",
    "    for v in ['chevrolet', 'ford', 'volkswagen', 'toyota', 'dodge']:\n",
    "        feature = 'is_make_%s' % v\n",
    "        df[feature] = (df['make'] == v).astype(int)\n",
    "        features.append(feature)\n",
    "\n",
    "    for v in ['regular_unleaded', 'premium_unleaded_(required)', \n",
    "              'premium_unleaded_(recommended)', 'flex-fuel_(unleaded/e85)']:\n",
    "        feature = 'is_type_%s' % v\n",
    "        df[feature] = (df['engine_fuel_type'] == v).astype(int)\n",
    "        features.append(feature)\n",
    "\n",
    "    for v in ['automatic', 'manual', 'automated_manual']:\n",
    "        feature = 'is_transmission_%s' % v\n",
    "        df[feature] = (df['transmission_type'] == v).astype(int)\n",
    "        features.append(feature)\n",
    "        \n",
    "    df_num = df[features]\n",
    "    df_num = df_num.fillna(df_num.mean())\n",
    "    X = df_num.values\n",
    "    return X"
   ]
  },
  {
   "cell_type": "code",
   "execution_count": null,
   "id": "f7c6dd65-2b9c-4af3-8d92-704c02494d9f",
   "metadata": {},
   "outputs": [],
   "source": [
    "X_train = prepare_X(df_train)\n",
    "w_0, w = train_linear_regression(X_train, y_train)\n",
    "\n",
    "y_pred = w_0 + X_train.dot(w)\n",
    "print('train:', rmse(y_train, y_pred))\n",
    "\n",
    "X_val = prepare_X(df_val)\n",
    "y_pred = w_0 + X_val.dot(w)\n",
    "print('validation:', rmse(y_val, y_pred))"
   ]
  },
  {
   "cell_type": "code",
   "execution_count": null,
   "id": "ce06e395-6a34-41bb-9e3a-c4a76d33076d",
   "metadata": {},
   "outputs": [],
   "source": [
    "def prepare_X(df):\n",
    "    df = df.copy()\n",
    "    features = base.copy()\n",
    "\n",
    "    df['age'] = 2017 - df.year\n",
    "    features.append('age')\n",
    "    \n",
    "    for v in [2, 3, 4]:\n",
    "        feature = 'num_doors_%s' % v\n",
    "        df[feature] = (df['number_of_doors'] == v).astype(int)\n",
    "        features.append(feature)\n",
    "\n",
    "    for v in ['chevrolet', 'ford', 'volkswagen', 'toyota', 'dodge']:\n",
    "        feature = 'is_make_%s' % v\n",
    "        df[feature] = (df['make'] == v).astype(int)\n",
    "        features.append(feature)\n",
    "\n",
    "    for v in ['regular_unleaded', 'premium_unleaded_(required)', \n",
    "              'premium_unleaded_(recommended)', 'flex-fuel_(unleaded/e85)']:\n",
    "        feature = 'is_type_%s' % v\n",
    "        df[feature] = (df['engine_fuel_type'] == v).astype(int)\n",
    "        features.append(feature)\n",
    "\n",
    "    for v in ['automatic', 'manual', 'automated_manual']:\n",
    "        feature = 'is_transmission_%s' % v\n",
    "        df[feature] = (df['transmission_type'] == v).astype(int)\n",
    "        features.append(feature)\n",
    "\n",
    "    for v in ['front_wheel_drive', 'rear_wheel_drive', 'all_wheel_drive', 'four_wheel_drive']:\n",
    "        feature = 'is_driven_wheels_%s' % v\n",
    "        df[feature] = (df['driven_wheels'] == v).astype(int)\n",
    "        features.append(feature)\n",
    "\n",
    "    for v in ['crossover', 'flex_fuel', 'luxury', 'luxury,performance', 'hatchback']:\n",
    "        feature = 'is_mc_%s' % v\n",
    "        df[feature] = (df['market_category'] == v).astype(int)\n",
    "        features.append(feature)\n",
    "\n",
    "    for v in ['compact', 'midsize', 'large']:\n",
    "        feature = 'is_size_%s' % v\n",
    "        df[feature] = (df['vehicle_size'] == v).astype(int)\n",
    "        features.append(feature)\n",
    "\n",
    "    for v in ['sedan', '4dr_suv', 'coupe', 'convertible', '4dr_hatchback']:\n",
    "        feature = 'is_style_%s' % v\n",
    "        df[feature] = (df['vehicle_style'] == v).astype(int)\n",
    "        features.append(feature)\n",
    "\n",
    "    df_num = df[features]\n",
    "    df_num = df_num.fillna(df_num.mean())\n",
    "    X = df_num.values\n",
    "    return X"
   ]
  },
  {
   "cell_type": "code",
   "execution_count": null,
   "id": "9bb5cd99-29a3-4533-a42b-5a5e04fc1a9f",
   "metadata": {},
   "outputs": [],
   "source": [
    "X_train = prepare_X(df_train)\n",
    "w_0, w = train_linear_regression(X_train, y_train)\n",
    "\n",
    "y_pred = w_0 + X_train.dot(w)\n",
    "print('train:', rmse(y_train, y_pred))\n",
    "\n",
    "X_val = prepare_X(df_val)\n",
    "y_pred = w_0 + X_val.dot(w)\n",
    "print('validation:', rmse(y_val, y_pred))"
   ]
  },
  {
   "cell_type": "code",
   "execution_count": null,
   "id": "bbbee2d3-7b28-4d42-b10d-c3fcce246a7e",
   "metadata": {},
   "outputs": [],
   "source": []
  },
  {
   "cell_type": "code",
   "execution_count": null,
   "id": "46a57409-ac4d-4c64-a49e-164cc630f1c4",
   "metadata": {},
   "outputs": [],
   "source": [
    "## regularization"
   ]
  },
  {
   "cell_type": "code",
   "execution_count": null,
   "id": "e13a9bcb-0a7b-45c9-b284-8f5be8da0641",
   "metadata": {},
   "outputs": [],
   "source": []
  },
  {
   "cell_type": "code",
   "execution_count": null,
   "id": "0d94adad-b927-468a-a056-423ac968e8cc",
   "metadata": {},
   "outputs": [],
   "source": [
    "def train_linear_regression_reg(X, y, r=0.0):\n",
    "    ones = np.ones(X.shape[0])\n",
    "    X = np.column_stack([ones, X])\n",
    "\n",
    "    XTX = X.T.dot(X)\n",
    "    reg = r * np.eye(XTX.shape[0])\n",
    "    XTX = XTX + reg\n",
    "\n",
    "    XTX_inv = np.linalg.inv(XTX)\n",
    "    w = XTX_inv.dot(X.T).dot(y)\n",
    "    \n",
    "    return w[0], w[1:]"
   ]
  },
  {
   "cell_type": "code",
   "execution_count": null,
   "id": "2246dd4d-e083-43c7-a04c-b177bd409715",
   "metadata": {},
   "outputs": [],
   "source": [
    "X_train = prepare_X(df_train)\n",
    "w_0, w = train_linear_regression_reg(X_train, y_train, r=0)\n",
    "\n",
    "y_pred = w_0 + X_train.dot(w)\n",
    "print('train', rmse(y_train, y_pred))\n",
    "\n",
    "X_val = prepare_X(df_val)\n",
    "y_pred = w_0 + X_val.dot(w)\n",
    "print('val', rmse(y_val, y_pred))"
   ]
  },
  {
   "cell_type": "code",
   "execution_count": null,
   "id": "37d7cf75-2d4f-4b81-b16e-6e7111b2706a",
   "metadata": {},
   "outputs": [],
   "source": [
    "X_train = prepare_X(df_train)\n",
    "X_val = prepare_X(df_val)\n",
    "\n",
    "for r in [0.000001, 0.0001, 0.001, 0.01, 0.1, 1, 5, 10]:\n",
    "    w_0, w = train_linear_regression_reg(X_train, y_train, r=r)\n",
    "    y_pred = w_0 + X_val.dot(w)\n",
    "    print('%6s' %r, rmse(y_val, y_pred))"
   ]
  },
  {
   "cell_type": "code",
   "execution_count": null,
   "id": "9bf5a38e-a4c5-430f-a6de-5b3deec341a9",
   "metadata": {},
   "outputs": [],
   "source": [
    "X_train = prepare_X(df_train)\n",
    "w_0, w = train_linear_regression_reg(X_train, y_train, r=0.01)\n",
    "\n",
    "X_val = prepare_X(df_val)\n",
    "y_pred = w_0 + X_val.dot(w)\n",
    "print('validation:', rmse(y_val, y_pred))\n",
    "\n",
    "X_test = prepare_X(df_test)\n",
    "y_pred = w_0 + X_test.dot(w)\n",
    "print('test:', rmse(y_test, y_pred))"
   ]
  },
  {
   "cell_type": "code",
   "execution_count": null,
   "id": "8aa4aaf6-eb72-485f-9379-c00eaf8d06ee",
   "metadata": {},
   "outputs": [],
   "source": []
  },
  {
   "cell_type": "code",
   "execution_count": null,
   "id": "14653d26-1214-4e8e-8340-e1f457579323",
   "metadata": {},
   "outputs": [],
   "source": [
    "i = 2\n",
    "ad = df_test.iloc[i].to_dict()\n",
    "ad"
   ]
  },
  {
   "cell_type": "code",
   "execution_count": null,
   "id": "d0657032-54c8-485d-a02b-e06273c84299",
   "metadata": {},
   "outputs": [],
   "source": [
    "X_test = prepare_X(pd.DataFrame([ad]))\n",
    "y_pred = w_0 + X_test.dot(w)\n",
    "suggestion = np.expm1(y_pred)\n",
    "suggestion"
   ]
  }
 ],
 "metadata": {
  "kernelspec": {
   "display_name": "Python 3 (ipykernel)",
   "language": "python",
   "name": "python3"
  },
  "language_info": {
   "codemirror_mode": {
    "name": "ipython",
    "version": 3
   },
   "file_extension": ".py",
   "mimetype": "text/x-python",
   "name": "python",
   "nbconvert_exporter": "python",
   "pygments_lexer": "ipython3",
   "version": "3.12.4"
  }
 },
 "nbformat": 4,
 "nbformat_minor": 5
}
